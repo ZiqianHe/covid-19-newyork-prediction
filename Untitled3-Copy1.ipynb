{
 "cells": [
  {
   "cell_type": "code",
   "execution_count": 1,
   "metadata": {},
   "outputs": [],
   "source": [
    "import pandas as pd\n",
    "import numpy as np\n",
    "import matplotlib.pyplot as plt"
   ]
  },
  {
   "cell_type": "code",
   "execution_count": 3,
   "metadata": {
    "collapsed": true
   },
   "outputs": [
    {
     "data": {
      "text/plain": [
       "<bound method NDFrame.head of           date state dataQualityGrade    death  deathConfirmed  deathIncrease  \\\n",
       "0   2020-03-04    NY              NaN      NaN             0.0              0   \n",
       "1   2020-03-05    NY              NaN      NaN             NaN              0   \n",
       "2   2020-03-06    NY              NaN      NaN             NaN              0   \n",
       "3   2020-03-07    NY              NaN      NaN             NaN              0   \n",
       "4   2020-03-08    NY              NaN      NaN             NaN              0   \n",
       "..         ...   ...              ...      ...             ...            ...   \n",
       "241 2020-10-31    NY                B  25807.0             NaN              3   \n",
       "242 2020-11-01    NY                B  25824.0             NaN             17   \n",
       "243 2020-11-02    NY                B  25838.0             NaN             14   \n",
       "244 2020-11-03    NY                B  25853.0             NaN             15   \n",
       "245 2020-11-04    NY                B  25868.0             NaN             15   \n",
       "\n",
       "     deathProbable  hospitalized  hospitalizedCumulative  \\\n",
       "0              NaN           NaN                     NaN   \n",
       "1              NaN           NaN                     NaN   \n",
       "2              NaN           NaN                     NaN   \n",
       "3              NaN           NaN                     NaN   \n",
       "4              NaN           NaN                     NaN   \n",
       "..             ...           ...                     ...   \n",
       "241            NaN       89995.0                 89995.0   \n",
       "242            NaN       89995.0                 89995.0   \n",
       "243            NaN       89995.0                 89995.0   \n",
       "244            NaN       89995.0                 89995.0   \n",
       "245            NaN       89995.0                 89995.0   \n",
       "\n",
       "     hospitalizedCurrently  ...  totalTestResults  totalTestResultsIncrease  \\\n",
       "0                      NaN  ...                54                         0   \n",
       "1                      NaN  ...                98                        44   \n",
       "2                      NaN  ...               125                        27   \n",
       "3                      NaN  ...               168                        43   \n",
       "4                      NaN  ...               197                        29   \n",
       "..                     ...  ...               ...                       ...   \n",
       "241                 1121.0  ...          14527718                    136962   \n",
       "242                 1125.0  ...          14676653                    148935   \n",
       "243                 1151.0  ...          14772754                     96101   \n",
       "244                 1227.0  ...          14900623                    127869   \n",
       "245                 1253.0  ...          15034157                    133534   \n",
       "\n",
       "     totalTestsAntibody  totalTestsAntigen  totalTestsPeopleAntibody  \\\n",
       "0                   NaN                NaN                       NaN   \n",
       "1                   NaN                NaN                       NaN   \n",
       "2                   NaN                NaN                       NaN   \n",
       "3                   NaN                NaN                       NaN   \n",
       "4                   NaN                NaN                       NaN   \n",
       "..                  ...                ...                       ...   \n",
       "241                 NaN                NaN                       NaN   \n",
       "242                 NaN                NaN                       NaN   \n",
       "243                 NaN                NaN                       NaN   \n",
       "244                 NaN                NaN                       NaN   \n",
       "245                 NaN                NaN                       NaN   \n",
       "\n",
       "     totalTestsPeopleAntigen  totalTestsPeopleViral  \\\n",
       "0                        NaN                    NaN   \n",
       "1                        NaN                    NaN   \n",
       "2                        NaN                    NaN   \n",
       "3                        NaN                    NaN   \n",
       "4                        NaN                    NaN   \n",
       "..                       ...                    ...   \n",
       "241                      NaN                    NaN   \n",
       "242                      NaN                    NaN   \n",
       "243                      NaN                    NaN   \n",
       "244                      NaN                    NaN   \n",
       "245                      NaN                    NaN   \n",
       "\n",
       "     totalTestsPeopleViralIncrease  totalTestsViral  totalTestsViralIncrease  \n",
       "0                                0              NaN                        0  \n",
       "1                                0              NaN                        0  \n",
       "2                                0              NaN                        0  \n",
       "3                                0              NaN                        0  \n",
       "4                                0              NaN                        0  \n",
       "..                             ...              ...                      ...  \n",
       "241                              0              NaN                        0  \n",
       "242                              0              NaN                        0  \n",
       "243                              0              NaN                        0  \n",
       "244                              0              NaN                        0  \n",
       "245                              0              NaN                        0  \n",
       "\n",
       "[246 rows x 42 columns]>"
      ]
     },
     "execution_count": 3,
     "metadata": {},
     "output_type": "execute_result"
    }
   ],
   "source": [
    "df=pd.read_excel(r\"F:\\python code\\pythonproject\\nycovid19.xlsx\")\n",
    "df.head"
   ]
  },
  {
   "cell_type": "code",
   "execution_count": 4,
   "metadata": {},
   "outputs": [
    {
     "data": {
      "text/html": [
       "<div>\n",
       "<style scoped>\n",
       "    .dataframe tbody tr th:only-of-type {\n",
       "        vertical-align: middle;\n",
       "    }\n",
       "\n",
       "    .dataframe tbody tr th {\n",
       "        vertical-align: top;\n",
       "    }\n",
       "\n",
       "    .dataframe thead th {\n",
       "        text-align: right;\n",
       "    }\n",
       "</style>\n",
       "<table border=\"1\" class=\"dataframe\">\n",
       "  <thead>\n",
       "    <tr style=\"text-align: right;\">\n",
       "      <th></th>\n",
       "      <th>date</th>\n",
       "      <th>state</th>\n",
       "      <th>dataQualityGrade</th>\n",
       "      <th>death</th>\n",
       "      <th>deathConfirmed</th>\n",
       "      <th>deathIncrease</th>\n",
       "      <th>deathProbable</th>\n",
       "      <th>hospitalized</th>\n",
       "      <th>hospitalizedCumulative</th>\n",
       "      <th>hospitalizedCurrently</th>\n",
       "      <th>...</th>\n",
       "      <th>totalTestResults</th>\n",
       "      <th>totalTestResultsIncrease</th>\n",
       "      <th>totalTestsAntibody</th>\n",
       "      <th>totalTestsAntigen</th>\n",
       "      <th>totalTestsPeopleAntibody</th>\n",
       "      <th>totalTestsPeopleAntigen</th>\n",
       "      <th>totalTestsPeopleViral</th>\n",
       "      <th>totalTestsPeopleViralIncrease</th>\n",
       "      <th>totalTestsViral</th>\n",
       "      <th>totalTestsViralIncrease</th>\n",
       "    </tr>\n",
       "  </thead>\n",
       "  <tbody>\n",
       "    <tr>\n",
       "      <th>0</th>\n",
       "      <td>2020-03-04</td>\n",
       "      <td>NY</td>\n",
       "      <td>NaN</td>\n",
       "      <td>NaN</td>\n",
       "      <td>0.0</td>\n",
       "      <td>0</td>\n",
       "      <td>NaN</td>\n",
       "      <td>NaN</td>\n",
       "      <td>NaN</td>\n",
       "      <td>NaN</td>\n",
       "      <td>...</td>\n",
       "      <td>54</td>\n",
       "      <td>0</td>\n",
       "      <td>NaN</td>\n",
       "      <td>NaN</td>\n",
       "      <td>NaN</td>\n",
       "      <td>NaN</td>\n",
       "      <td>NaN</td>\n",
       "      <td>0</td>\n",
       "      <td>NaN</td>\n",
       "      <td>0</td>\n",
       "    </tr>\n",
       "    <tr>\n",
       "      <th>1</th>\n",
       "      <td>2020-03-05</td>\n",
       "      <td>NY</td>\n",
       "      <td>NaN</td>\n",
       "      <td>NaN</td>\n",
       "      <td>NaN</td>\n",
       "      <td>0</td>\n",
       "      <td>NaN</td>\n",
       "      <td>NaN</td>\n",
       "      <td>NaN</td>\n",
       "      <td>NaN</td>\n",
       "      <td>...</td>\n",
       "      <td>98</td>\n",
       "      <td>44</td>\n",
       "      <td>NaN</td>\n",
       "      <td>NaN</td>\n",
       "      <td>NaN</td>\n",
       "      <td>NaN</td>\n",
       "      <td>NaN</td>\n",
       "      <td>0</td>\n",
       "      <td>NaN</td>\n",
       "      <td>0</td>\n",
       "    </tr>\n",
       "    <tr>\n",
       "      <th>2</th>\n",
       "      <td>2020-03-06</td>\n",
       "      <td>NY</td>\n",
       "      <td>NaN</td>\n",
       "      <td>NaN</td>\n",
       "      <td>NaN</td>\n",
       "      <td>0</td>\n",
       "      <td>NaN</td>\n",
       "      <td>NaN</td>\n",
       "      <td>NaN</td>\n",
       "      <td>NaN</td>\n",
       "      <td>...</td>\n",
       "      <td>125</td>\n",
       "      <td>27</td>\n",
       "      <td>NaN</td>\n",
       "      <td>NaN</td>\n",
       "      <td>NaN</td>\n",
       "      <td>NaN</td>\n",
       "      <td>NaN</td>\n",
       "      <td>0</td>\n",
       "      <td>NaN</td>\n",
       "      <td>0</td>\n",
       "    </tr>\n",
       "    <tr>\n",
       "      <th>3</th>\n",
       "      <td>2020-03-07</td>\n",
       "      <td>NY</td>\n",
       "      <td>NaN</td>\n",
       "      <td>NaN</td>\n",
       "      <td>NaN</td>\n",
       "      <td>0</td>\n",
       "      <td>NaN</td>\n",
       "      <td>NaN</td>\n",
       "      <td>NaN</td>\n",
       "      <td>NaN</td>\n",
       "      <td>...</td>\n",
       "      <td>168</td>\n",
       "      <td>43</td>\n",
       "      <td>NaN</td>\n",
       "      <td>NaN</td>\n",
       "      <td>NaN</td>\n",
       "      <td>NaN</td>\n",
       "      <td>NaN</td>\n",
       "      <td>0</td>\n",
       "      <td>NaN</td>\n",
       "      <td>0</td>\n",
       "    </tr>\n",
       "    <tr>\n",
       "      <th>4</th>\n",
       "      <td>2020-03-08</td>\n",
       "      <td>NY</td>\n",
       "      <td>NaN</td>\n",
       "      <td>NaN</td>\n",
       "      <td>NaN</td>\n",
       "      <td>0</td>\n",
       "      <td>NaN</td>\n",
       "      <td>NaN</td>\n",
       "      <td>NaN</td>\n",
       "      <td>NaN</td>\n",
       "      <td>...</td>\n",
       "      <td>197</td>\n",
       "      <td>29</td>\n",
       "      <td>NaN</td>\n",
       "      <td>NaN</td>\n",
       "      <td>NaN</td>\n",
       "      <td>NaN</td>\n",
       "      <td>NaN</td>\n",
       "      <td>0</td>\n",
       "      <td>NaN</td>\n",
       "      <td>0</td>\n",
       "    </tr>\n",
       "    <tr>\n",
       "      <th>...</th>\n",
       "      <td>...</td>\n",
       "      <td>...</td>\n",
       "      <td>...</td>\n",
       "      <td>...</td>\n",
       "      <td>...</td>\n",
       "      <td>...</td>\n",
       "      <td>...</td>\n",
       "      <td>...</td>\n",
       "      <td>...</td>\n",
       "      <td>...</td>\n",
       "      <td>...</td>\n",
       "      <td>...</td>\n",
       "      <td>...</td>\n",
       "      <td>...</td>\n",
       "      <td>...</td>\n",
       "      <td>...</td>\n",
       "      <td>...</td>\n",
       "      <td>...</td>\n",
       "      <td>...</td>\n",
       "      <td>...</td>\n",
       "      <td>...</td>\n",
       "    </tr>\n",
       "    <tr>\n",
       "      <th>241</th>\n",
       "      <td>2020-10-31</td>\n",
       "      <td>NY</td>\n",
       "      <td>B</td>\n",
       "      <td>25807.0</td>\n",
       "      <td>NaN</td>\n",
       "      <td>3</td>\n",
       "      <td>NaN</td>\n",
       "      <td>89995.0</td>\n",
       "      <td>89995.0</td>\n",
       "      <td>1121.0</td>\n",
       "      <td>...</td>\n",
       "      <td>14527718</td>\n",
       "      <td>136962</td>\n",
       "      <td>NaN</td>\n",
       "      <td>NaN</td>\n",
       "      <td>NaN</td>\n",
       "      <td>NaN</td>\n",
       "      <td>NaN</td>\n",
       "      <td>0</td>\n",
       "      <td>NaN</td>\n",
       "      <td>0</td>\n",
       "    </tr>\n",
       "    <tr>\n",
       "      <th>242</th>\n",
       "      <td>2020-11-01</td>\n",
       "      <td>NY</td>\n",
       "      <td>B</td>\n",
       "      <td>25824.0</td>\n",
       "      <td>NaN</td>\n",
       "      <td>17</td>\n",
       "      <td>NaN</td>\n",
       "      <td>89995.0</td>\n",
       "      <td>89995.0</td>\n",
       "      <td>1125.0</td>\n",
       "      <td>...</td>\n",
       "      <td>14676653</td>\n",
       "      <td>148935</td>\n",
       "      <td>NaN</td>\n",
       "      <td>NaN</td>\n",
       "      <td>NaN</td>\n",
       "      <td>NaN</td>\n",
       "      <td>NaN</td>\n",
       "      <td>0</td>\n",
       "      <td>NaN</td>\n",
       "      <td>0</td>\n",
       "    </tr>\n",
       "    <tr>\n",
       "      <th>243</th>\n",
       "      <td>2020-11-02</td>\n",
       "      <td>NY</td>\n",
       "      <td>B</td>\n",
       "      <td>25838.0</td>\n",
       "      <td>NaN</td>\n",
       "      <td>14</td>\n",
       "      <td>NaN</td>\n",
       "      <td>89995.0</td>\n",
       "      <td>89995.0</td>\n",
       "      <td>1151.0</td>\n",
       "      <td>...</td>\n",
       "      <td>14772754</td>\n",
       "      <td>96101</td>\n",
       "      <td>NaN</td>\n",
       "      <td>NaN</td>\n",
       "      <td>NaN</td>\n",
       "      <td>NaN</td>\n",
       "      <td>NaN</td>\n",
       "      <td>0</td>\n",
       "      <td>NaN</td>\n",
       "      <td>0</td>\n",
       "    </tr>\n",
       "    <tr>\n",
       "      <th>244</th>\n",
       "      <td>2020-11-03</td>\n",
       "      <td>NY</td>\n",
       "      <td>B</td>\n",
       "      <td>25853.0</td>\n",
       "      <td>NaN</td>\n",
       "      <td>15</td>\n",
       "      <td>NaN</td>\n",
       "      <td>89995.0</td>\n",
       "      <td>89995.0</td>\n",
       "      <td>1227.0</td>\n",
       "      <td>...</td>\n",
       "      <td>14900623</td>\n",
       "      <td>127869</td>\n",
       "      <td>NaN</td>\n",
       "      <td>NaN</td>\n",
       "      <td>NaN</td>\n",
       "      <td>NaN</td>\n",
       "      <td>NaN</td>\n",
       "      <td>0</td>\n",
       "      <td>NaN</td>\n",
       "      <td>0</td>\n",
       "    </tr>\n",
       "    <tr>\n",
       "      <th>245</th>\n",
       "      <td>2020-11-04</td>\n",
       "      <td>NY</td>\n",
       "      <td>B</td>\n",
       "      <td>25868.0</td>\n",
       "      <td>NaN</td>\n",
       "      <td>15</td>\n",
       "      <td>NaN</td>\n",
       "      <td>89995.0</td>\n",
       "      <td>89995.0</td>\n",
       "      <td>1253.0</td>\n",
       "      <td>...</td>\n",
       "      <td>15034157</td>\n",
       "      <td>133534</td>\n",
       "      <td>NaN</td>\n",
       "      <td>NaN</td>\n",
       "      <td>NaN</td>\n",
       "      <td>NaN</td>\n",
       "      <td>NaN</td>\n",
       "      <td>0</td>\n",
       "      <td>NaN</td>\n",
       "      <td>0</td>\n",
       "    </tr>\n",
       "  </tbody>\n",
       "</table>\n",
       "<p>246 rows × 42 columns</p>\n",
       "</div>"
      ],
      "text/plain": [
       "          date state dataQualityGrade    death  deathConfirmed  deathIncrease  \\\n",
       "0   2020-03-04    NY              NaN      NaN             0.0              0   \n",
       "1   2020-03-05    NY              NaN      NaN             NaN              0   \n",
       "2   2020-03-06    NY              NaN      NaN             NaN              0   \n",
       "3   2020-03-07    NY              NaN      NaN             NaN              0   \n",
       "4   2020-03-08    NY              NaN      NaN             NaN              0   \n",
       "..         ...   ...              ...      ...             ...            ...   \n",
       "241 2020-10-31    NY                B  25807.0             NaN              3   \n",
       "242 2020-11-01    NY                B  25824.0             NaN             17   \n",
       "243 2020-11-02    NY                B  25838.0             NaN             14   \n",
       "244 2020-11-03    NY                B  25853.0             NaN             15   \n",
       "245 2020-11-04    NY                B  25868.0             NaN             15   \n",
       "\n",
       "     deathProbable  hospitalized  hospitalizedCumulative  \\\n",
       "0              NaN           NaN                     NaN   \n",
       "1              NaN           NaN                     NaN   \n",
       "2              NaN           NaN                     NaN   \n",
       "3              NaN           NaN                     NaN   \n",
       "4              NaN           NaN                     NaN   \n",
       "..             ...           ...                     ...   \n",
       "241            NaN       89995.0                 89995.0   \n",
       "242            NaN       89995.0                 89995.0   \n",
       "243            NaN       89995.0                 89995.0   \n",
       "244            NaN       89995.0                 89995.0   \n",
       "245            NaN       89995.0                 89995.0   \n",
       "\n",
       "     hospitalizedCurrently  ...  totalTestResults  totalTestResultsIncrease  \\\n",
       "0                      NaN  ...                54                         0   \n",
       "1                      NaN  ...                98                        44   \n",
       "2                      NaN  ...               125                        27   \n",
       "3                      NaN  ...               168                        43   \n",
       "4                      NaN  ...               197                        29   \n",
       "..                     ...  ...               ...                       ...   \n",
       "241                 1121.0  ...          14527718                    136962   \n",
       "242                 1125.0  ...          14676653                    148935   \n",
       "243                 1151.0  ...          14772754                     96101   \n",
       "244                 1227.0  ...          14900623                    127869   \n",
       "245                 1253.0  ...          15034157                    133534   \n",
       "\n",
       "     totalTestsAntibody  totalTestsAntigen  totalTestsPeopleAntibody  \\\n",
       "0                   NaN                NaN                       NaN   \n",
       "1                   NaN                NaN                       NaN   \n",
       "2                   NaN                NaN                       NaN   \n",
       "3                   NaN                NaN                       NaN   \n",
       "4                   NaN                NaN                       NaN   \n",
       "..                  ...                ...                       ...   \n",
       "241                 NaN                NaN                       NaN   \n",
       "242                 NaN                NaN                       NaN   \n",
       "243                 NaN                NaN                       NaN   \n",
       "244                 NaN                NaN                       NaN   \n",
       "245                 NaN                NaN                       NaN   \n",
       "\n",
       "     totalTestsPeopleAntigen  totalTestsPeopleViral  \\\n",
       "0                        NaN                    NaN   \n",
       "1                        NaN                    NaN   \n",
       "2                        NaN                    NaN   \n",
       "3                        NaN                    NaN   \n",
       "4                        NaN                    NaN   \n",
       "..                       ...                    ...   \n",
       "241                      NaN                    NaN   \n",
       "242                      NaN                    NaN   \n",
       "243                      NaN                    NaN   \n",
       "244                      NaN                    NaN   \n",
       "245                      NaN                    NaN   \n",
       "\n",
       "     totalTestsPeopleViralIncrease  totalTestsViral  totalTestsViralIncrease  \n",
       "0                                0              NaN                        0  \n",
       "1                                0              NaN                        0  \n",
       "2                                0              NaN                        0  \n",
       "3                                0              NaN                        0  \n",
       "4                                0              NaN                        0  \n",
       "..                             ...              ...                      ...  \n",
       "241                              0              NaN                        0  \n",
       "242                              0              NaN                        0  \n",
       "243                              0              NaN                        0  \n",
       "244                              0              NaN                        0  \n",
       "245                              0              NaN                        0  \n",
       "\n",
       "[246 rows x 42 columns]"
      ]
     },
     "execution_count": 4,
     "metadata": {},
     "output_type": "execute_result"
    }
   ],
   "source": [
    "df"
   ]
  },
  {
   "cell_type": "code",
   "execution_count": 5,
   "metadata": {},
   "outputs": [
    {
     "data": {
      "text/html": [
       "<div>\n",
       "<style scoped>\n",
       "    .dataframe tbody tr th:only-of-type {\n",
       "        vertical-align: middle;\n",
       "    }\n",
       "\n",
       "    .dataframe tbody tr th {\n",
       "        vertical-align: top;\n",
       "    }\n",
       "\n",
       "    .dataframe thead th {\n",
       "        text-align: right;\n",
       "    }\n",
       "</style>\n",
       "<table border=\"1\" class=\"dataframe\">\n",
       "  <thead>\n",
       "    <tr style=\"text-align: right;\">\n",
       "      <th></th>\n",
       "      <th>death</th>\n",
       "      <th>deathConfirmed</th>\n",
       "      <th>deathIncrease</th>\n",
       "      <th>deathProbable</th>\n",
       "      <th>hospitalized</th>\n",
       "      <th>hospitalizedCumulative</th>\n",
       "      <th>hospitalizedCurrently</th>\n",
       "      <th>hospitalizedIncrease</th>\n",
       "      <th>inIcuCumulative</th>\n",
       "      <th>inIcuCurrently</th>\n",
       "      <th>...</th>\n",
       "      <th>totalTestResults</th>\n",
       "      <th>totalTestResultsIncrease</th>\n",
       "      <th>totalTestsAntibody</th>\n",
       "      <th>totalTestsAntigen</th>\n",
       "      <th>totalTestsPeopleAntibody</th>\n",
       "      <th>totalTestsPeopleAntigen</th>\n",
       "      <th>totalTestsPeopleViral</th>\n",
       "      <th>totalTestsPeopleViralIncrease</th>\n",
       "      <th>totalTestsViral</th>\n",
       "      <th>totalTestsViralIncrease</th>\n",
       "    </tr>\n",
       "  </thead>\n",
       "  <tbody>\n",
       "    <tr>\n",
       "      <th>count</th>\n",
       "      <td>235.000000</td>\n",
       "      <td>1.0</td>\n",
       "      <td>246.000000</td>\n",
       "      <td>0.0</td>\n",
       "      <td>229.000000</td>\n",
       "      <td>229.000000</td>\n",
       "      <td>233.000000</td>\n",
       "      <td>246.000000</td>\n",
       "      <td>0.0</td>\n",
       "      <td>224.000000</td>\n",
       "      <td>...</td>\n",
       "      <td>2.460000e+02</td>\n",
       "      <td>246.000000</td>\n",
       "      <td>0.0</td>\n",
       "      <td>0.0</td>\n",
       "      <td>0.0</td>\n",
       "      <td>0.0</td>\n",
       "      <td>0.0</td>\n",
       "      <td>246.0</td>\n",
       "      <td>0.0</td>\n",
       "      <td>246.0</td>\n",
       "    </tr>\n",
       "    <tr>\n",
       "      <th>mean</th>\n",
       "      <td>21163.302128</td>\n",
       "      <td>0.0</td>\n",
       "      <td>105.154472</td>\n",
       "      <td>NaN</td>\n",
       "      <td>80773.903930</td>\n",
       "      <td>80773.903930</td>\n",
       "      <td>3781.171674</td>\n",
       "      <td>365.833333</td>\n",
       "      <td>NaN</td>\n",
       "      <td>1116.267857</td>\n",
       "      <td>...</td>\n",
       "      <td>5.126231e+06</td>\n",
       "      <td>61114.239837</td>\n",
       "      <td>NaN</td>\n",
       "      <td>NaN</td>\n",
       "      <td>NaN</td>\n",
       "      <td>NaN</td>\n",
       "      <td>NaN</td>\n",
       "      <td>0.0</td>\n",
       "      <td>NaN</td>\n",
       "      <td>0.0</td>\n",
       "    </tr>\n",
       "    <tr>\n",
       "      <th>std</th>\n",
       "      <td>7716.072004</td>\n",
       "      <td>NaN</td>\n",
       "      <td>197.225388</td>\n",
       "      <td>NaN</td>\n",
       "      <td>21240.611627</td>\n",
       "      <td>21240.611627</td>\n",
       "      <td>5279.793279</td>\n",
       "      <td>762.385360</td>\n",
       "      <td>NaN</td>\n",
       "      <td>1567.735083</td>\n",
       "      <td>...</td>\n",
       "      <td>4.438992e+06</td>\n",
       "      <td>37111.093560</td>\n",
       "      <td>NaN</td>\n",
       "      <td>NaN</td>\n",
       "      <td>NaN</td>\n",
       "      <td>NaN</td>\n",
       "      <td>NaN</td>\n",
       "      <td>0.0</td>\n",
       "      <td>NaN</td>\n",
       "      <td>0.0</td>\n",
       "    </tr>\n",
       "    <tr>\n",
       "      <th>min</th>\n",
       "      <td>3.000000</td>\n",
       "      <td>0.0</td>\n",
       "      <td>0.000000</td>\n",
       "      <td>NaN</td>\n",
       "      <td>1531.000000</td>\n",
       "      <td>1531.000000</td>\n",
       "      <td>325.000000</td>\n",
       "      <td>0.000000</td>\n",
       "      <td>NaN</td>\n",
       "      <td>109.000000</td>\n",
       "      <td>...</td>\n",
       "      <td>5.400000e+01</td>\n",
       "      <td>0.000000</td>\n",
       "      <td>NaN</td>\n",
       "      <td>NaN</td>\n",
       "      <td>NaN</td>\n",
       "      <td>NaN</td>\n",
       "      <td>NaN</td>\n",
       "      <td>0.0</td>\n",
       "      <td>NaN</td>\n",
       "      <td>0.0</td>\n",
       "    </tr>\n",
       "    <tr>\n",
       "      <th>25%</th>\n",
       "      <td>21929.000000</td>\n",
       "      <td>0.0</td>\n",
       "      <td>6.000000</td>\n",
       "      <td>NaN</td>\n",
       "      <td>86575.000000</td>\n",
       "      <td>86575.000000</td>\n",
       "      <td>570.000000</td>\n",
       "      <td>0.000000</td>\n",
       "      <td>NaN</td>\n",
       "      <td>143.750000</td>\n",
       "      <td>...</td>\n",
       "      <td>1.012707e+06</td>\n",
       "      <td>27560.750000</td>\n",
       "      <td>NaN</td>\n",
       "      <td>NaN</td>\n",
       "      <td>NaN</td>\n",
       "      <td>NaN</td>\n",
       "      <td>NaN</td>\n",
       "      <td>0.0</td>\n",
       "      <td>NaN</td>\n",
       "      <td>0.0</td>\n",
       "    </tr>\n",
       "    <tr>\n",
       "      <th>50%</th>\n",
       "      <td>24968.000000</td>\n",
       "      <td>0.0</td>\n",
       "      <td>12.000000</td>\n",
       "      <td>NaN</td>\n",
       "      <td>89995.000000</td>\n",
       "      <td>89995.000000</td>\n",
       "      <td>934.000000</td>\n",
       "      <td>0.000000</td>\n",
       "      <td>NaN</td>\n",
       "      <td>209.000000</td>\n",
       "      <td>...</td>\n",
       "      <td>4.202096e+06</td>\n",
       "      <td>61968.500000</td>\n",
       "      <td>NaN</td>\n",
       "      <td>NaN</td>\n",
       "      <td>NaN</td>\n",
       "      <td>NaN</td>\n",
       "      <td>NaN</td>\n",
       "      <td>0.0</td>\n",
       "      <td>NaN</td>\n",
       "      <td>0.0</td>\n",
       "    </tr>\n",
       "    <tr>\n",
       "      <th>75%</th>\n",
       "      <td>25360.000000</td>\n",
       "      <td>0.0</td>\n",
       "      <td>85.000000</td>\n",
       "      <td>NaN</td>\n",
       "      <td>89995.000000</td>\n",
       "      <td>89995.000000</td>\n",
       "      <td>4642.000000</td>\n",
       "      <td>240.750000</td>\n",
       "      <td>NaN</td>\n",
       "      <td>1581.500000</td>\n",
       "      <td>...</td>\n",
       "      <td>8.587504e+06</td>\n",
       "      <td>82090.000000</td>\n",
       "      <td>NaN</td>\n",
       "      <td>NaN</td>\n",
       "      <td>NaN</td>\n",
       "      <td>NaN</td>\n",
       "      <td>NaN</td>\n",
       "      <td>0.0</td>\n",
       "      <td>NaN</td>\n",
       "      <td>0.0</td>\n",
       "    </tr>\n",
       "    <tr>\n",
       "      <th>max</th>\n",
       "      <td>25868.000000</td>\n",
       "      <td>0.0</td>\n",
       "      <td>951.000000</td>\n",
       "      <td>NaN</td>\n",
       "      <td>89995.000000</td>\n",
       "      <td>89995.000000</td>\n",
       "      <td>18825.000000</td>\n",
       "      <td>3424.000000</td>\n",
       "      <td>NaN</td>\n",
       "      <td>5225.000000</td>\n",
       "      <td>...</td>\n",
       "      <td>1.503416e+07</td>\n",
       "      <td>168353.000000</td>\n",
       "      <td>NaN</td>\n",
       "      <td>NaN</td>\n",
       "      <td>NaN</td>\n",
       "      <td>NaN</td>\n",
       "      <td>NaN</td>\n",
       "      <td>0.0</td>\n",
       "      <td>NaN</td>\n",
       "      <td>0.0</td>\n",
       "    </tr>\n",
       "  </tbody>\n",
       "</table>\n",
       "<p>8 rows × 39 columns</p>\n",
       "</div>"
      ],
      "text/plain": [
       "              death  deathConfirmed  deathIncrease  deathProbable  \\\n",
       "count    235.000000             1.0     246.000000            0.0   \n",
       "mean   21163.302128             0.0     105.154472            NaN   \n",
       "std     7716.072004             NaN     197.225388            NaN   \n",
       "min        3.000000             0.0       0.000000            NaN   \n",
       "25%    21929.000000             0.0       6.000000            NaN   \n",
       "50%    24968.000000             0.0      12.000000            NaN   \n",
       "75%    25360.000000             0.0      85.000000            NaN   \n",
       "max    25868.000000             0.0     951.000000            NaN   \n",
       "\n",
       "       hospitalized  hospitalizedCumulative  hospitalizedCurrently  \\\n",
       "count    229.000000              229.000000             233.000000   \n",
       "mean   80773.903930            80773.903930            3781.171674   \n",
       "std    21240.611627            21240.611627            5279.793279   \n",
       "min     1531.000000             1531.000000             325.000000   \n",
       "25%    86575.000000            86575.000000             570.000000   \n",
       "50%    89995.000000            89995.000000             934.000000   \n",
       "75%    89995.000000            89995.000000            4642.000000   \n",
       "max    89995.000000            89995.000000           18825.000000   \n",
       "\n",
       "       hospitalizedIncrease  inIcuCumulative  inIcuCurrently  ...  \\\n",
       "count            246.000000              0.0      224.000000  ...   \n",
       "mean             365.833333              NaN     1116.267857  ...   \n",
       "std              762.385360              NaN     1567.735083  ...   \n",
       "min                0.000000              NaN      109.000000  ...   \n",
       "25%                0.000000              NaN      143.750000  ...   \n",
       "50%                0.000000              NaN      209.000000  ...   \n",
       "75%              240.750000              NaN     1581.500000  ...   \n",
       "max             3424.000000              NaN     5225.000000  ...   \n",
       "\n",
       "       totalTestResults  totalTestResultsIncrease  totalTestsAntibody  \\\n",
       "count      2.460000e+02                246.000000                 0.0   \n",
       "mean       5.126231e+06              61114.239837                 NaN   \n",
       "std        4.438992e+06              37111.093560                 NaN   \n",
       "min        5.400000e+01                  0.000000                 NaN   \n",
       "25%        1.012707e+06              27560.750000                 NaN   \n",
       "50%        4.202096e+06              61968.500000                 NaN   \n",
       "75%        8.587504e+06              82090.000000                 NaN   \n",
       "max        1.503416e+07             168353.000000                 NaN   \n",
       "\n",
       "       totalTestsAntigen  totalTestsPeopleAntibody  totalTestsPeopleAntigen  \\\n",
       "count                0.0                       0.0                      0.0   \n",
       "mean                 NaN                       NaN                      NaN   \n",
       "std                  NaN                       NaN                      NaN   \n",
       "min                  NaN                       NaN                      NaN   \n",
       "25%                  NaN                       NaN                      NaN   \n",
       "50%                  NaN                       NaN                      NaN   \n",
       "75%                  NaN                       NaN                      NaN   \n",
       "max                  NaN                       NaN                      NaN   \n",
       "\n",
       "       totalTestsPeopleViral  totalTestsPeopleViralIncrease  totalTestsViral  \\\n",
       "count                    0.0                          246.0              0.0   \n",
       "mean                     NaN                            0.0              NaN   \n",
       "std                      NaN                            0.0              NaN   \n",
       "min                      NaN                            0.0              NaN   \n",
       "25%                      NaN                            0.0              NaN   \n",
       "50%                      NaN                            0.0              NaN   \n",
       "75%                      NaN                            0.0              NaN   \n",
       "max                      NaN                            0.0              NaN   \n",
       "\n",
       "       totalTestsViralIncrease  \n",
       "count                    246.0  \n",
       "mean                       0.0  \n",
       "std                        0.0  \n",
       "min                        0.0  \n",
       "25%                        0.0  \n",
       "50%                        0.0  \n",
       "75%                        0.0  \n",
       "max                        0.0  \n",
       "\n",
       "[8 rows x 39 columns]"
      ]
     },
     "execution_count": 5,
     "metadata": {},
     "output_type": "execute_result"
    }
   ],
   "source": [
    "df.describe()"
   ]
  },
  {
   "cell_type": "code",
   "execution_count": 6,
   "metadata": {},
   "outputs": [
    {
     "data": {
      "image/png": "[encoded data removed]",
      "text/plain": [
       "<Figure size 432x288 with 1 Axes>"
      ]
     },
     "metadata": {
      "needs_background": "light"
     },
     "output_type": "display_data"
    }
   ],
   "source": [
    "plt.plot(df.index.values,df['positive'])\n",
    "plt.ylabel('NY of infections')\n",
    "plt.xlabel('Days from first case')\n",
    "plt.show()"
   ]
  },
  {
   "cell_type": "code",
   "execution_count": 7,
   "metadata": {},
   "outputs": [
    {
     "data": {
      "image/png": "[encoded data removed]",
      "text/plain": [
       "<Figure size 432x288 with 1 Axes>"
      ]
     },
     "metadata": {
      "needs_background": "light"
     },
     "output_type": "display_data"
    }
   ],
   "source": [
    "plt.plot(df.index.values,df['death']) # deaths evolved\n",
    "plt.ylabel('NY of deaths')\n",
    "plt.xlabel('Days from first case')\n",
    "plt.show()"
   ]
  },
  {
   "cell_type": "code",
   "execution_count": 8,
   "metadata": {},
   "outputs": [
    {
     "data": {
      "image/png": "[encoded data removed]",
      "text/plain": [
       "<Figure size 432x288 with 1 Axes>"
      ]
     },
     "metadata": {
      "needs_background": "light"
     },
     "output_type": "display_data"
    }
   ],
   "source": [
    "plt.bar(df.index.values,df['positiveIncrease'])#new bar plot\n",
    "plt.ylabel('NY of new infections per day')\n",
    "plt.xlabel('Days from first case')\n",
    "plt.show()"
   ]
  },
  {
   "cell_type": "code",
   "execution_count": 9,
   "metadata": {},
   "outputs": [
    {
     "data": {
      "image/png": "[encoded data removed]",
      "text/plain": [
       "<Figure size 432x288 with 1 Axes>"
      ]
     },
     "metadata": {
      "needs_background": "light"
     },
     "output_type": "display_data"
    }
   ],
   "source": [
    "plt.bar(df.index.values,df['deathIncrease'])\n",
    "plt.ylabel('NY of new deaths per day')\n",
    "plt.xlabel('Days from first case')\n",
    "plt.show()"
   ]
  },
  {
   "cell_type": "code",
   "execution_count": 10,
   "metadata": {},
   "outputs": [],
   "source": [
    "from sklearn.linear_model import LinearRegression\n",
    "from sklearn.model_selection import train_test_split\n",
    "from sklearn.metrics import mean_squared_error, r2_score\n",
    "from sklearn.preprocessing import PolynomialFeatures\n",
    "from sklearn.svm import SVR"
   ]
  },
  {
   "cell_type": "code",
   "execution_count": 11,
   "metadata": {},
   "outputs": [
    {
     "data": {
      "text/plain": [
       "(246, 1)"
      ]
     },
     "execution_count": 11,
     "metadata": {},
     "output_type": "execute_result"
    }
   ],
   "source": [
    "x=df.index.values.tolist()\n",
    "y=df['positive']\n",
    "x = np.array(x) \n",
    "x=x.reshape(-1,1)\n",
    "x.shape"
   ]
  },
  {
   "cell_type": "code",
   "execution_count": 12,
   "metadata": {},
   "outputs": [
    {
     "data": {
      "text/plain": [
       "0           6\n",
       "1          22\n",
       "2          33\n",
       "3          76\n",
       "4         105\n",
       "        ...  \n",
       "241    507480\n",
       "242    509735\n",
       "243    511368\n",
       "244    513689\n",
       "245    515815\n",
       "Name: positive, Length: 246, dtype: int64"
      ]
     },
     "execution_count": 12,
     "metadata": {},
     "output_type": "execute_result"
    }
   ],
   "source": [
    "y"
   ]
  },
  {
   "cell_type": "code",
   "execution_count": 13,
   "metadata": {},
   "outputs": [
    {
     "data": {
      "text/plain": [
       "74.97"
      ]
     },
     "execution_count": 13,
     "metadata": {},
     "output_type": "execute_result"
    }
   ],
   "source": [
    "x_train, x_test, y_train, y_test = train_test_split(x, y, random_state = 0)\n",
    "model = LinearRegression()\n",
    "model = model.fit(x_train, y_train)\n",
    "score = model.score(x_test, y_test)*100\n",
    "score.round(2)"
   ]
  },
  {
   "cell_type": "code",
   "execution_count": 14,
   "metadata": {},
   "outputs": [
    {
     "data": {
      "text/plain": [
       "Text(0.5, 0, 'Days from first case')"
      ]
     },
     "execution_count": 14,
     "metadata": {},
     "output_type": "execute_result"
    },
    {
     "data": {
      "image/png": "[encoded data removed]",
      "text/plain": [
       "<Figure size 432x288 with 1 Axes>"
      ]
     },
     "metadata": {
      "needs_background": "light"
     },
     "output_type": "display_data"
    }
   ],
   "source": [
    "plt.scatter(x_train, y_train, color = 'green')\n",
    "plt.plot(x_train, model.predict(x_train), color = 'red')\n",
    "plt.title('Training set - days vs Positive')\n",
    "plt.ylabel('NY of infections')\n",
    "plt.xlabel('Days from first case')"
   ]
  },
  {
   "cell_type": "code",
   "execution_count": 15,
   "metadata": {},
   "outputs": [
    {
     "data": {
      "text/plain": [
       "Text(0.5, 0, 'Days from first case')"
      ]
     },
     "execution_count": 15,
     "metadata": {},
     "output_type": "execute_result"
    },
    {
     "data": {
      "image/png": "[encoded data removed]",
      "text/plain": [
       "<Figure size 432x288 with 1 Axes>"
      ]
     },
     "metadata": {
      "needs_background": "light"
     },
     "output_type": "display_data"
    }
   ],
   "source": [
    "plt.scatter(x_test, y_test, color = 'green')\n",
    "plt.plot(x_test, model.predict(x_test), color = 'red')\n",
    "plt.title('Testing set - days vs Positive')\n",
    "plt.ylabel('NY of infections')\n",
    "plt.xlabel('Days from first case')"
   ]
  },
  {
   "cell_type": "code",
   "execution_count": 16,
   "metadata": {},
   "outputs": [
    {
     "data": {
      "text/plain": [
       "array([284229.27450144, 317897.27605034, 257649.27327863, 319669.27613186,\n",
       "       252333.27303407, 349793.27751772, 310809.27572426, 371057.27849597,\n",
       "       399409.27980031, 479149.28346875, 539397.28624046, 449025.28208289,\n",
       "       344477.27727316, 206261.27091452, 480921.28355027, 470289.28306114,\n",
       "       546485.28656655, 192085.27026235, 259421.27336015, 238157.2723819 ,\n",
       "       526993.28566982, 464973.28281658, 404725.28004487, 342705.27719163,\n",
       "       204489.270833  , 463201.28273506, 314353.2758873 , 537625.28615894,\n",
       "       140697.26789824, 369285.27841445, 298405.27515361, 507501.28477308,\n",
       "       420673.28077856, 135381.26765368, 165505.26903954, 346249.27735468,\n",
       "       147785.26822433, 528765.28575134, 383461.27906662, 445481.28191985,\n",
       "       413585.28045247, 397637.27971878, 223981.27172973, 438393.28159377,\n",
       "       408269.28020791, 296633.27507209, 356881.2778438 , 305493.27547969,\n",
       "       239929.27246342, 158417.26871345, 321441.27621338, 153101.26846889,\n",
       "       381689.2789851 , 138925.26781672, 489781.28395788, 441937.28175681,\n",
       "       255877.27319711, 406497.28012639, 433077.2813492 , 316125.27596882,\n",
       "       332073.27670251, 410041.28028943])"
      ]
     },
     "execution_count": 16,
     "metadata": {},
     "output_type": "execute_result"
    }
   ],
   "source": [
    "y_predict = model.predict(x_test)\n",
    "y_predict"
   ]
  },
  {
   "cell_type": "code",
   "execution_count": 18,
   "metadata": {},
   "outputs": [
    {
     "data": {
      "text/plain": [
       "0     284229.274501\n",
       "1     317897.276050\n",
       "2     257649.273279\n",
       "3     319669.276132\n",
       "4     252333.273034\n",
       "          ...      \n",
       "57    406497.280126\n",
       "58    433077.281349\n",
       "59    316125.275969\n",
       "60    332073.276703\n",
       "61    410041.280289\n",
       "Length: 62, dtype: float64"
      ]
     },
     "execution_count": 18,
     "metadata": {},
     "output_type": "execute_result"
    }
   ],
   "source": [
    "pre =pd.Series(y_predict.ravel())\n",
    "pre"
   ]
  },
  {
   "cell_type": "code",
   "execution_count": 19,
   "metadata": {},
   "outputs": [
    {
     "data": {
      "text/html": [
       "<div>\n",
       "<style scoped>\n",
       "    .dataframe tbody tr th:only-of-type {\n",
       "        vertical-align: middle;\n",
       "    }\n",
       "\n",
       "    .dataframe tbody tr th {\n",
       "        vertical-align: top;\n",
       "    }\n",
       "\n",
       "    .dataframe thead th {\n",
       "        text-align: right;\n",
       "    }\n",
       "</style>\n",
       "<table border=\"1\" class=\"dataframe\">\n",
       "  <thead>\n",
       "    <tr style=\"text-align: right;\">\n",
       "      <th></th>\n",
       "      <th>predict</th>\n",
       "      <th>actual</th>\n",
       "    </tr>\n",
       "  </thead>\n",
       "  <tbody>\n",
       "    <tr>\n",
       "      <th>0</th>\n",
       "      <td>284229.274501</td>\n",
       "      <td>371711</td>\n",
       "    </tr>\n",
       "    <tr>\n",
       "      <th>1</th>\n",
       "      <td>317897.276050</td>\n",
       "      <td>387272</td>\n",
       "    </tr>\n",
       "    <tr>\n",
       "      <th>2</th>\n",
       "      <td>257649.273279</td>\n",
       "      <td>350121</td>\n",
       "    </tr>\n",
       "    <tr>\n",
       "      <th>3</th>\n",
       "      <td>319669.276132</td>\n",
       "      <td>387936</td>\n",
       "    </tr>\n",
       "    <tr>\n",
       "      <th>4</th>\n",
       "      <td>252333.273034</td>\n",
       "      <td>343051</td>\n",
       "    </tr>\n",
       "  </tbody>\n",
       "</table>\n",
       "</div>"
      ],
      "text/plain": [
       "         predict  actual\n",
       "0  284229.274501  371711\n",
       "1  317897.276050  387272\n",
       "2  257649.273279  350121\n",
       "3  319669.276132  387936\n",
       "4  252333.273034  343051"
      ]
     },
     "execution_count": 19,
     "metadata": {},
     "output_type": "execute_result"
    }
   ],
   "source": [
    "y_test = pd.Series(y_test.ravel())\n",
    "concate = [pre, y_test]\n",
    "z = pd.concat(concate, axis=1, keys=['predict', 'actual'])\n",
    "z.head()"
   ]
  },
  {
   "cell_type": "code",
   "execution_count": 20,
   "metadata": {},
   "outputs": [
    {
     "data": {
      "text/html": [
       "<div>\n",
       "<style scoped>\n",
       "    .dataframe tbody tr th:only-of-type {\n",
       "        vertical-align: middle;\n",
       "    }\n",
       "\n",
       "    .dataframe tbody tr th {\n",
       "        vertical-align: top;\n",
       "    }\n",
       "\n",
       "    .dataframe thead th {\n",
       "        text-align: right;\n",
       "    }\n",
       "</style>\n",
       "<table border=\"1\" class=\"dataframe\">\n",
       "  <thead>\n",
       "    <tr style=\"text-align: right;\">\n",
       "      <th></th>\n",
       "      <th>predict</th>\n",
       "      <th>actual</th>\n",
       "    </tr>\n",
       "  </thead>\n",
       "  <tbody>\n",
       "    <tr>\n",
       "      <th>0</th>\n",
       "      <td>284229.274501</td>\n",
       "      <td>371711</td>\n",
       "    </tr>\n",
       "    <tr>\n",
       "      <th>1</th>\n",
       "      <td>317897.276050</td>\n",
       "      <td>387272</td>\n",
       "    </tr>\n",
       "    <tr>\n",
       "      <th>2</th>\n",
       "      <td>257649.273279</td>\n",
       "      <td>350121</td>\n",
       "    </tr>\n",
       "    <tr>\n",
       "      <th>3</th>\n",
       "      <td>319669.276132</td>\n",
       "      <td>387936</td>\n",
       "    </tr>\n",
       "    <tr>\n",
       "      <th>4</th>\n",
       "      <td>252333.273034</td>\n",
       "      <td>343051</td>\n",
       "    </tr>\n",
       "    <tr>\n",
       "      <th>...</th>\n",
       "      <td>...</td>\n",
       "      <td>...</td>\n",
       "    </tr>\n",
       "    <tr>\n",
       "      <th>57</th>\n",
       "      <td>406497.280126</td>\n",
       "      <td>420860</td>\n",
       "    </tr>\n",
       "    <tr>\n",
       "      <th>58</th>\n",
       "      <td>433077.281349</td>\n",
       "      <td>430145</td>\n",
       "    </tr>\n",
       "    <tr>\n",
       "      <th>59</th>\n",
       "      <td>316125.275969</td>\n",
       "      <td>386556</td>\n",
       "    </tr>\n",
       "    <tr>\n",
       "      <th>60</th>\n",
       "      <td>332073.276703</td>\n",
       "      <td>392539</td>\n",
       "    </tr>\n",
       "    <tr>\n",
       "      <th>61</th>\n",
       "      <td>410041.280289</td>\n",
       "      <td>422003</td>\n",
       "    </tr>\n",
       "  </tbody>\n",
       "</table>\n",
       "<p>62 rows × 2 columns</p>\n",
       "</div>"
      ],
      "text/plain": [
       "          predict  actual\n",
       "0   284229.274501  371711\n",
       "1   317897.276050  387272\n",
       "2   257649.273279  350121\n",
       "3   319669.276132  387936\n",
       "4   252333.273034  343051\n",
       "..            ...     ...\n",
       "57  406497.280126  420860\n",
       "58  433077.281349  430145\n",
       "59  316125.275969  386556\n",
       "60  332073.276703  392539\n",
       "61  410041.280289  422003\n",
       "\n",
       "[62 rows x 2 columns]"
      ]
     },
     "execution_count": 20,
     "metadata": {},
     "output_type": "execute_result"
    }
   ],
   "source": [
    "z"
   ]
  },
  {
   "cell_type": "code",
   "execution_count": 21,
   "metadata": {},
   "outputs": [
    {
     "data": {
      "text/plain": [
       "<function matplotlib.pyplot.show(*args, **kw)>"
      ]
     },
     "execution_count": 21,
     "metadata": {},
     "output_type": "execute_result"
    },
    {
     "data": {
      "image/png": "[encoded data removed]",
      "text/plain": [
       "<Figure size 432x288 with 1 Axes>"
      ]
     },
     "metadata": {
      "needs_background": "light"
     },
     "output_type": "display_data"
    }
   ],
   "source": [
    "z.plot()\n",
    "plt.grid()\n",
    "plt.show"
   ]
  },
  {
   "cell_type": "code",
   "execution_count": 22,
   "metadata": {},
   "outputs": [
    {
     "data": {
      "text/plain": [
       "Text(0.5, 0, 'Days from first case')"
      ]
     },
     "execution_count": 22,
     "metadata": {},
     "output_type": "execute_result"
    },
    {
     "data": {
      "image/png": "[encoded data removed]",
      "text/plain": [
       "<Figure size 432x288 with 1 Axes>"
      ]
     },
     "metadata": {
      "needs_background": "light"
     },
     "output_type": "display_data"
    }
   ],
   "source": [
    "plt.scatter(x_train, y_train, color = 'green')\n",
    "plt.plot(x_train, model.predict(x_train), color = 'red')\n",
    "plt.title('Training set - days vs Positive')\n",
    "plt.ylabel('NY of infections')\n",
    "plt.xlabel('Days from first case')"
   ]
  },
  {
   "cell_type": "code",
   "execution_count": 23,
   "metadata": {},
   "outputs": [
    {
     "data": {
      "text/plain": [
       "Text(0.5, 0, 'Days from first case')"
      ]
     },
     "execution_count": 23,
     "metadata": {},
     "output_type": "execute_result"
    },
    {
     "data": {
      "image/png": "[encoded data removed]",
      "text/plain": [
       "<Figure size 432x288 with 1 Axes>"
      ]
     },
     "metadata": {
      "needs_background": "light"
     },
     "output_type": "display_data"
    }
   ],
   "source": [
    "plt.scatter(x_test, y_test, color = 'green')\n",
    "plt.plot(x_test, model.predict(x_test), color = 'red')\n",
    "plt.title('Testing set - days vs Positive')\n",
    "plt.ylabel('NY of infections')\n",
    "plt.xlabel('Days from first case')"
   ]
  }
 ],
 "metadata": {
  "kernelspec": {
   "display_name": "Python 3",
   "language": "python",
   "name": "python3"
  },
  "language_info": {
   "codemirror_mode": {
    "name": "ipython",
    "version": 3
   },
   "file_extension": ".py",
   "mimetype": "text/x-python",
   "name": "python",
   "nbconvert_exporter": "python",
   "pygments_lexer": "ipython3",
   "version": "3.8.3"
  }
 },
 "nbformat": 4,
 "nbformat_minor": 4
}
